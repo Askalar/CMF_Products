{
 "cells": [
  {
   "cell_type": "markdown",
   "metadata": {},
   "source": [
    "Libralies"
   ]
  },
  {
   "cell_type": "code",
   "execution_count": 92,
   "metadata": {},
   "outputs": [],
   "source": [
    "import pandas as pd\n",
    "import numpy as np\n",
    "import os\n",
    "import matplotlib.pyplot as plt"
   ]
  },
  {
   "cell_type": "markdown",
   "metadata": {},
   "source": [
    "Constants"
   ]
  },
  {
   "cell_type": "code",
   "execution_count": 13,
   "metadata": {},
   "outputs": [],
   "source": [
    "PATH_OF_TRAIN_DATA = os.path.dirname(os.path.abspath('eda.ipynb')) + '\\\\oil_gas_train\\\\'"
   ]
  },
  {
   "cell_type": "markdown",
   "metadata": {},
   "source": [
    "Download data"
   ]
  },
  {
   "cell_type": "code",
   "execution_count": 79,
   "metadata": {},
   "outputs": [],
   "source": [
    "names_of_train_tables = os.listdir(PATH_OF_TRAIN_DATA)\n",
    "\n",
    "# i do not want to append data to dataframe by parts, so i use dictionary at the beginning\n",
    "Container_for_dataframe = {\"company_name\": [], \"rev\": [], \"date\": [], \"op_in\": []}\n",
    "\n",
    "for name in names_of_train_tables:\n",
    "    name_of_table = PATH_OF_TRAIN_DATA + name\n",
    "    data = pd.read_excel(name_of_table)\n",
    "    rev = data.iloc[28].tolist()[9:51]\n",
    "    date = data.iloc[27].tolist()[9:51]\n",
    "    op_in = data.iloc[42].tolist()[9:51]\n",
    "    company_name = name[:-5]\n",
    "    for i in range(len(rev)):\n",
    "        Container_for_dataframe[\"company_name\"].append(company_name)\n",
    "        Container_for_dataframe[\"rev\"].append(rev[i])\n",
    "        Container_for_dataframe[\"date\"].append(date[i])\n",
    "        Container_for_dataframe[\"op_in\"].append(op_in[i])\n",
    "\n",
    "\n",
    "FULL_DF = pd.DataFrame(Container_for_dataframe)\n"
   ]
  },
  {
   "cell_type": "markdown",
   "metadata": {},
   "source": [
    "See some stat"
   ]
  },
  {
   "cell_type": "code",
   "execution_count": 82,
   "metadata": {},
   "outputs": [],
   "source": [
    "Train_DF = FULL_DF.loc[FULL_DF['rev'] != 0]"
   ]
  },
  {
   "cell_type": "code",
   "execution_count": 83,
   "metadata": {},
   "outputs": [
    {
     "data": {
      "text/plain": [
       "(1833, 4)"
      ]
     },
     "execution_count": 83,
     "metadata": {},
     "output_type": "execute_result"
    }
   ],
   "source": [
    "Train_DF.shape"
   ]
  },
  {
   "cell_type": "code",
   "execution_count": 102,
   "metadata": {},
   "outputs": [
    {
     "data": {
      "text/html": [
       "<div>\n",
       "<style scoped>\n",
       "    .dataframe tbody tr th:only-of-type {\n",
       "        vertical-align: middle;\n",
       "    }\n",
       "\n",
       "    .dataframe tbody tr th {\n",
       "        vertical-align: top;\n",
       "    }\n",
       "\n",
       "    .dataframe thead th {\n",
       "        text-align: right;\n",
       "    }\n",
       "</style>\n",
       "<table border=\"1\" class=\"dataframe\">\n",
       "  <thead>\n",
       "    <tr style=\"text-align: right;\">\n",
       "      <th></th>\n",
       "      <th>company_name</th>\n",
       "      <th>rev</th>\n",
       "      <th>date</th>\n",
       "      <th>op_in</th>\n",
       "    </tr>\n",
       "  </thead>\n",
       "  <tbody>\n",
       "    <tr>\n",
       "      <th>532</th>\n",
       "      <td>CRBO</td>\n",
       "      <td>0.000280</td>\n",
       "      <td>2009-06-30</td>\n",
       "      <td>-0.006492</td>\n",
       "    </tr>\n",
       "    <tr>\n",
       "      <th>533</th>\n",
       "      <td>CRBO</td>\n",
       "      <td>0.000260</td>\n",
       "      <td>2009-09-30</td>\n",
       "      <td>-0.009773</td>\n",
       "    </tr>\n",
       "    <tr>\n",
       "      <th>534</th>\n",
       "      <td>CRBO</td>\n",
       "      <td>0.000202</td>\n",
       "      <td>2009-12-31</td>\n",
       "      <td>-0.007879</td>\n",
       "    </tr>\n",
       "    <tr>\n",
       "      <th>535</th>\n",
       "      <td>CRBO</td>\n",
       "      <td>0.100144</td>\n",
       "      <td>2010-03-31</td>\n",
       "      <td>0.087908</td>\n",
       "    </tr>\n",
       "    <tr>\n",
       "      <th>536</th>\n",
       "      <td>CRBO</td>\n",
       "      <td>1.412895</td>\n",
       "      <td>2011-03-31</td>\n",
       "      <td>-0.918040</td>\n",
       "    </tr>\n",
       "    <tr>\n",
       "      <th>537</th>\n",
       "      <td>CRBO</td>\n",
       "      <td>1.252889</td>\n",
       "      <td>2011-06-30</td>\n",
       "      <td>-1.983994</td>\n",
       "    </tr>\n",
       "    <tr>\n",
       "      <th>538</th>\n",
       "      <td>CRBO</td>\n",
       "      <td>3.834328</td>\n",
       "      <td>2011-09-30</td>\n",
       "      <td>-3.454983</td>\n",
       "    </tr>\n",
       "    <tr>\n",
       "      <th>539</th>\n",
       "      <td>CRBO</td>\n",
       "      <td>3.202888</td>\n",
       "      <td>2011-12-31</td>\n",
       "      <td>4.805017</td>\n",
       "    </tr>\n",
       "    <tr>\n",
       "      <th>540</th>\n",
       "      <td>CRBO</td>\n",
       "      <td>2.971000</td>\n",
       "      <td>2012-03-31</td>\n",
       "      <td>-0.626000</td>\n",
       "    </tr>\n",
       "    <tr>\n",
       "      <th>541</th>\n",
       "      <td>CRBO</td>\n",
       "      <td>2.495000</td>\n",
       "      <td>2012-06-30</td>\n",
       "      <td>-0.487000</td>\n",
       "    </tr>\n",
       "    <tr>\n",
       "      <th>542</th>\n",
       "      <td>CRBO</td>\n",
       "      <td>2.685000</td>\n",
       "      <td>2012-09-30</td>\n",
       "      <td>-0.005000</td>\n",
       "    </tr>\n",
       "    <tr>\n",
       "      <th>543</th>\n",
       "      <td>CRBO</td>\n",
       "      <td>3.925000</td>\n",
       "      <td>2012-12-31</td>\n",
       "      <td>-0.026000</td>\n",
       "    </tr>\n",
       "    <tr>\n",
       "      <th>544</th>\n",
       "      <td>CRBO</td>\n",
       "      <td>3.284000</td>\n",
       "      <td>2013-03-31</td>\n",
       "      <td>0.153000</td>\n",
       "    </tr>\n",
       "    <tr>\n",
       "      <th>545</th>\n",
       "      <td>CRBO</td>\n",
       "      <td>5.045000</td>\n",
       "      <td>2013-06-30</td>\n",
       "      <td>1.703000</td>\n",
       "    </tr>\n",
       "    <tr>\n",
       "      <th>546</th>\n",
       "      <td>CRBO</td>\n",
       "      <td>4.949000</td>\n",
       "      <td>2013-09-30</td>\n",
       "      <td>1.449000</td>\n",
       "    </tr>\n",
       "    <tr>\n",
       "      <th>547</th>\n",
       "      <td>CRBO</td>\n",
       "      <td>5.360000</td>\n",
       "      <td>2013-12-31</td>\n",
       "      <td>1.635000</td>\n",
       "    </tr>\n",
       "    <tr>\n",
       "      <th>548</th>\n",
       "      <td>CRBO</td>\n",
       "      <td>5.697000</td>\n",
       "      <td>2014-03-31</td>\n",
       "      <td>1.490000</td>\n",
       "    </tr>\n",
       "    <tr>\n",
       "      <th>549</th>\n",
       "      <td>CRBO</td>\n",
       "      <td>5.754000</td>\n",
       "      <td>2014-06-30</td>\n",
       "      <td>1.995000</td>\n",
       "    </tr>\n",
       "    <tr>\n",
       "      <th>550</th>\n",
       "      <td>CRBO</td>\n",
       "      <td>6.435000</td>\n",
       "      <td>2014-09-30</td>\n",
       "      <td>2.176000</td>\n",
       "    </tr>\n",
       "    <tr>\n",
       "      <th>551</th>\n",
       "      <td>CRBO</td>\n",
       "      <td>4.542000</td>\n",
       "      <td>2014-12-31</td>\n",
       "      <td>0.766000</td>\n",
       "    </tr>\n",
       "    <tr>\n",
       "      <th>552</th>\n",
       "      <td>CRBO</td>\n",
       "      <td>3.393000</td>\n",
       "      <td>2015-03-31</td>\n",
       "      <td>-0.590000</td>\n",
       "    </tr>\n",
       "    <tr>\n",
       "      <th>553</th>\n",
       "      <td>CRBO</td>\n",
       "      <td>2.741000</td>\n",
       "      <td>2015-06-30</td>\n",
       "      <td>-1.143000</td>\n",
       "    </tr>\n",
       "    <tr>\n",
       "      <th>554</th>\n",
       "      <td>CRBO</td>\n",
       "      <td>3.077000</td>\n",
       "      <td>2015-09-30</td>\n",
       "      <td>-0.943000</td>\n",
       "    </tr>\n",
       "    <tr>\n",
       "      <th>555</th>\n",
       "      <td>CRBO</td>\n",
       "      <td>2.467000</td>\n",
       "      <td>2015-12-31</td>\n",
       "      <td>0.991000</td>\n",
       "    </tr>\n",
       "    <tr>\n",
       "      <th>556</th>\n",
       "      <td>CRBO</td>\n",
       "      <td>1.923000</td>\n",
       "      <td>2016-03-31</td>\n",
       "      <td>-1.234000</td>\n",
       "    </tr>\n",
       "    <tr>\n",
       "      <th>557</th>\n",
       "      <td>CRBO</td>\n",
       "      <td>1.899000</td>\n",
       "      <td>2016-06-30</td>\n",
       "      <td>-1.286000</td>\n",
       "    </tr>\n",
       "    <tr>\n",
       "      <th>558</th>\n",
       "      <td>CRBO</td>\n",
       "      <td>2.222000</td>\n",
       "      <td>2016-09-30</td>\n",
       "      <td>-1.703000</td>\n",
       "    </tr>\n",
       "    <tr>\n",
       "      <th>559</th>\n",
       "      <td>CRBO</td>\n",
       "      <td>4.641000</td>\n",
       "      <td>2016-12-31</td>\n",
       "      <td>-1.506000</td>\n",
       "    </tr>\n",
       "    <tr>\n",
       "      <th>560</th>\n",
       "      <td>CRBO</td>\n",
       "      <td>5.026000</td>\n",
       "      <td>2017-03-31</td>\n",
       "      <td>0.599000</td>\n",
       "    </tr>\n",
       "    <tr>\n",
       "      <th>561</th>\n",
       "      <td>CRBO</td>\n",
       "      <td>5.321000</td>\n",
       "      <td>2017-06-30</td>\n",
       "      <td>0.589000</td>\n",
       "    </tr>\n",
       "    <tr>\n",
       "      <th>562</th>\n",
       "      <td>CRBO</td>\n",
       "      <td>5.039000</td>\n",
       "      <td>2017-09-30</td>\n",
       "      <td>0.151000</td>\n",
       "    </tr>\n",
       "    <tr>\n",
       "      <th>563</th>\n",
       "      <td>CRBO</td>\n",
       "      <td>4.929000</td>\n",
       "      <td>2017-12-31</td>\n",
       "      <td>-0.289000</td>\n",
       "    </tr>\n",
       "    <tr>\n",
       "      <th>564</th>\n",
       "      <td>CRBO</td>\n",
       "      <td>6.722000</td>\n",
       "      <td>2018-03-31</td>\n",
       "      <td>-0.118000</td>\n",
       "    </tr>\n",
       "    <tr>\n",
       "      <th>565</th>\n",
       "      <td>CRBO</td>\n",
       "      <td>11.496000</td>\n",
       "      <td>2018-06-30</td>\n",
       "      <td>1.826000</td>\n",
       "    </tr>\n",
       "    <tr>\n",
       "      <th>566</th>\n",
       "      <td>CRBO</td>\n",
       "      <td>15.536000</td>\n",
       "      <td>2018-09-30</td>\n",
       "      <td>3.309000</td>\n",
       "    </tr>\n",
       "    <tr>\n",
       "      <th>567</th>\n",
       "      <td>CRBO</td>\n",
       "      <td>10.555000</td>\n",
       "      <td>2018-12-31</td>\n",
       "      <td>-3.141000</td>\n",
       "    </tr>\n",
       "    <tr>\n",
       "      <th>568</th>\n",
       "      <td>CRBO</td>\n",
       "      <td>33.800000</td>\n",
       "      <td>2019-03-31</td>\n",
       "      <td>5.055000</td>\n",
       "    </tr>\n",
       "    <tr>\n",
       "      <th>569</th>\n",
       "      <td>CRBO</td>\n",
       "      <td>28.386000</td>\n",
       "      <td>2019-06-30</td>\n",
       "      <td>2.132000</td>\n",
       "    </tr>\n",
       "    <tr>\n",
       "      <th>570</th>\n",
       "      <td>CRBO</td>\n",
       "      <td>27.369000</td>\n",
       "      <td>2019-09-30</td>\n",
       "      <td>4.201000</td>\n",
       "    </tr>\n",
       "    <tr>\n",
       "      <th>571</th>\n",
       "      <td>CRBO</td>\n",
       "      <td>27.569000</td>\n",
       "      <td>2019-12-31</td>\n",
       "      <td>0.868000</td>\n",
       "    </tr>\n",
       "    <tr>\n",
       "      <th>572</th>\n",
       "      <td>CRBO</td>\n",
       "      <td>42.465000</td>\n",
       "      <td>2020-03-31</td>\n",
       "      <td>18.751000</td>\n",
       "    </tr>\n",
       "    <tr>\n",
       "      <th>573</th>\n",
       "      <td>CRBO</td>\n",
       "      <td>15.973000</td>\n",
       "      <td>2020-06-30</td>\n",
       "      <td>-2.335000</td>\n",
       "    </tr>\n",
       "  </tbody>\n",
       "</table>\n",
       "</div>"
      ],
      "text/plain": [
       "    company_name        rev       date      op_in\n",
       "532         CRBO   0.000280 2009-06-30  -0.006492\n",
       "533         CRBO   0.000260 2009-09-30  -0.009773\n",
       "534         CRBO   0.000202 2009-12-31  -0.007879\n",
       "535         CRBO   0.100144 2010-03-31   0.087908\n",
       "536         CRBO   1.412895 2011-03-31  -0.918040\n",
       "537         CRBO   1.252889 2011-06-30  -1.983994\n",
       "538         CRBO   3.834328 2011-09-30  -3.454983\n",
       "539         CRBO   3.202888 2011-12-31   4.805017\n",
       "540         CRBO   2.971000 2012-03-31  -0.626000\n",
       "541         CRBO   2.495000 2012-06-30  -0.487000\n",
       "542         CRBO   2.685000 2012-09-30  -0.005000\n",
       "543         CRBO   3.925000 2012-12-31  -0.026000\n",
       "544         CRBO   3.284000 2013-03-31   0.153000\n",
       "545         CRBO   5.045000 2013-06-30   1.703000\n",
       "546         CRBO   4.949000 2013-09-30   1.449000\n",
       "547         CRBO   5.360000 2013-12-31   1.635000\n",
       "548         CRBO   5.697000 2014-03-31   1.490000\n",
       "549         CRBO   5.754000 2014-06-30   1.995000\n",
       "550         CRBO   6.435000 2014-09-30   2.176000\n",
       "551         CRBO   4.542000 2014-12-31   0.766000\n",
       "552         CRBO   3.393000 2015-03-31  -0.590000\n",
       "553         CRBO   2.741000 2015-06-30  -1.143000\n",
       "554         CRBO   3.077000 2015-09-30  -0.943000\n",
       "555         CRBO   2.467000 2015-12-31   0.991000\n",
       "556         CRBO   1.923000 2016-03-31  -1.234000\n",
       "557         CRBO   1.899000 2016-06-30  -1.286000\n",
       "558         CRBO   2.222000 2016-09-30  -1.703000\n",
       "559         CRBO   4.641000 2016-12-31  -1.506000\n",
       "560         CRBO   5.026000 2017-03-31   0.599000\n",
       "561         CRBO   5.321000 2017-06-30   0.589000\n",
       "562         CRBO   5.039000 2017-09-30   0.151000\n",
       "563         CRBO   4.929000 2017-12-31  -0.289000\n",
       "564         CRBO   6.722000 2018-03-31  -0.118000\n",
       "565         CRBO  11.496000 2018-06-30   1.826000\n",
       "566         CRBO  15.536000 2018-09-30   3.309000\n",
       "567         CRBO  10.555000 2018-12-31  -3.141000\n",
       "568         CRBO  33.800000 2019-03-31   5.055000\n",
       "569         CRBO  28.386000 2019-06-30   2.132000\n",
       "570         CRBO  27.369000 2019-09-30   4.201000\n",
       "571         CRBO  27.569000 2019-12-31   0.868000\n",
       "572         CRBO  42.465000 2020-03-31  18.751000\n",
       "573         CRBO  15.973000 2020-06-30  -2.335000"
      ]
     },
     "execution_count": 102,
     "metadata": {},
     "output_type": "execute_result"
    }
   ],
   "source": [
    "Train_DF.loc[Train_DF['company_name'] == \"CRBO\"]"
   ]
  },
  {
   "cell_type": "code",
   "execution_count": 70,
   "metadata": {},
   "outputs": [
    {
     "data": {
      "text/html": [
       "<div>\n",
       "<style scoped>\n",
       "    .dataframe tbody tr th:only-of-type {\n",
       "        vertical-align: middle;\n",
       "    }\n",
       "\n",
       "    .dataframe tbody tr th {\n",
       "        vertical-align: top;\n",
       "    }\n",
       "\n",
       "    .dataframe thead th {\n",
       "        text-align: right;\n",
       "    }\n",
       "</style>\n",
       "<table border=\"1\" class=\"dataframe\">\n",
       "  <thead>\n",
       "    <tr style=\"text-align: right;\">\n",
       "      <th></th>\n",
       "      <th>company_name</th>\n",
       "      <th>rev</th>\n",
       "      <th>date</th>\n",
       "      <th>op_in</th>\n",
       "    </tr>\n",
       "  </thead>\n",
       "  <tbody>\n",
       "    <tr>\n",
       "      <th>0</th>\n",
       "      <td>AMPY</td>\n",
       "      <td>0.000</td>\n",
       "      <td>2011-03-31</td>\n",
       "      <td>0.000</td>\n",
       "    </tr>\n",
       "    <tr>\n",
       "      <th>1</th>\n",
       "      <td>AMPY</td>\n",
       "      <td>0.000</td>\n",
       "      <td>2011-06-30</td>\n",
       "      <td>0.000</td>\n",
       "    </tr>\n",
       "    <tr>\n",
       "      <th>2</th>\n",
       "      <td>AMPY</td>\n",
       "      <td>0.000</td>\n",
       "      <td>2011-09-30</td>\n",
       "      <td>0.000</td>\n",
       "    </tr>\n",
       "    <tr>\n",
       "      <th>3</th>\n",
       "      <td>AMPY</td>\n",
       "      <td>61.863</td>\n",
       "      <td>2011-12-31</td>\n",
       "      <td>-32.289</td>\n",
       "    </tr>\n",
       "    <tr>\n",
       "      <th>4</th>\n",
       "      <td>AMPY</td>\n",
       "      <td>48.410</td>\n",
       "      <td>2012-03-31</td>\n",
       "      <td>2.342</td>\n",
       "    </tr>\n",
       "  </tbody>\n",
       "</table>\n",
       "</div>"
      ],
      "text/plain": [
       "  company_name     rev       date   op_in\n",
       "0         AMPY   0.000 2011-03-31   0.000\n",
       "1         AMPY   0.000 2011-06-30   0.000\n",
       "2         AMPY   0.000 2011-09-30   0.000\n",
       "3         AMPY  61.863 2011-12-31 -32.289\n",
       "4         AMPY  48.410 2012-03-31   2.342"
      ]
     },
     "execution_count": 70,
     "metadata": {},
     "output_type": "execute_result"
    }
   ],
   "source": [
    "Train_DF.head()"
   ]
  },
  {
   "cell_type": "code",
   "execution_count": 72,
   "metadata": {},
   "outputs": [
    {
     "data": {
      "text/plain": [
       "company_name\n",
       "AMPY              79.759447\n",
       "APA             2531.868423\n",
       "AR               614.141342\n",
       "BATL             136.569711\n",
       "BCEI              73.961080\n",
       "BRY               43.975131\n",
       "BSM               68.456947\n",
       "CDEV              70.238948\n",
       "CHK             3008.684219\n",
       "CLR              809.067422\n",
       "CNX              710.012659\n",
       "COG              404.091473\n",
       "COP            11246.842065\n",
       "CPE               76.925237\n",
       "CRBO               7.749878\n",
       "CRC              386.000000\n",
       "CRK              106.938316\n",
       "DEN              434.753711\n",
       "DVN             2638.789477\n",
       "EGY               30.151921\n",
       "EOG             3159.876197\n",
       "EQT              653.690841\n",
       "ESTE              18.007763\n",
       "FANG             284.232385\n",
       "GDP               35.784579\n",
       "HES             2913.499992\n",
       "LONE              15.970275\n",
       "LPI              189.598842\n",
       "MCF               34.069280\n",
       "MGY               60.377395\n",
       "MNRL               3.852632\n",
       "MRO             2096.526321\n",
       "MTDR             115.424566\n",
       "MUR             1854.364931\n",
       "NOG               99.468479\n",
       "OAS              303.783973\n",
       "OVV             1489.736849\n",
       "PDCE             189.209471\n",
       "PVAC              86.813737\n",
       "PXD             1302.121085\n",
       "REI               13.999960\n",
       "RRC              511.540868\n",
       "SBOW              92.044814\n",
       "SD               260.266867\n",
       "SM               410.640685\n",
       "SWN              795.657977\n",
       "TALO             184.788209\n",
       "TPL               37.347329\n",
       "VNOM              29.017816\n",
       "WLL              494.278708\n",
       "WTI              171.112475\n",
       "XEC              472.278737\n",
       "XOG               82.555421\n",
       "¦Ъ¦-¦¬¦¦¦-8       82.555421\n",
       "Name: rev, dtype: float64"
      ]
     },
     "execution_count": 72,
     "metadata": {},
     "output_type": "execute_result"
    }
   ],
   "source": [
    "Train_DF.groupby('company_name')['rev'].mean()"
   ]
  },
  {
   "cell_type": "code",
   "execution_count": 86,
   "metadata": {},
   "outputs": [
    {
     "data": {
      "text/plain": [
       "company_name\n",
       "AMPY             15.581714\n",
       "APA             777.625250\n",
       "AR              103.262915\n",
       "BATL             30.384658\n",
       "BCEI             15.175802\n",
       "BRY              45.356090\n",
       "BSM              50.366000\n",
       "CDEV             32.711111\n",
       "CHK             256.807513\n",
       "CLR             255.206185\n",
       "CNX              80.273500\n",
       "COG             100.515575\n",
       "COP            1602.178151\n",
       "CPE              21.655974\n",
       "CRBO              0.783780\n",
       "CRC              80.720302\n",
       "CRK               0.189211\n",
       "DEN             136.327602\n",
       "DVN             373.630811\n",
       "EGY              10.001079\n",
       "EOG             587.475456\n",
       "EQT             105.921026\n",
       "ESTE              3.584184\n",
       "FANG            116.214952\n",
       "GDP              -0.915223\n",
       "HES             235.868423\n",
       "LONE              6.945190\n",
       "LPI              58.574944\n",
       "MCF              -1.025896\n",
       "MGY               0.452573\n",
       "MNRL              6.747833\n",
       "MRO             395.368421\n",
       "MTDR             29.966388\n",
       "MUR             177.279043\n",
       "NOG              43.574563\n",
       "OAS              63.805502\n",
       "OVV             304.052632\n",
       "PDCE             29.884974\n",
       "PVAC             10.973974\n",
       "PXD             226.525279\n",
       "REI               3.458937\n",
       "RRC              93.115342\n",
       "SBOW             18.228368\n",
       "SD               39.012342\n",
       "SM               30.858008\n",
       "SWN             192.523877\n",
       "TALO             33.636684\n",
       "TPL              31.800469\n",
       "VNOM             25.655846\n",
       "WLL              89.385256\n",
       "WTI              24.271947\n",
       "XEC             147.564641\n",
       "XOG             -19.380722\n",
       "¦Ъ¦-¦¬¦¦¦-8     -19.380722\n",
       "Name: op_in, dtype: float64"
      ]
     },
     "execution_count": 86,
     "metadata": {},
     "output_type": "execute_result"
    }
   ],
   "source": [
    "Train_DF.groupby('company_name')['op_in'].mean()"
   ]
  },
  {
   "cell_type": "code",
   "execution_count": 87,
   "metadata": {},
   "outputs": [
    {
     "data": {
      "text/plain": [
       "company_name\n",
       "AMPY             56.431000\n",
       "APA            2227.000064\n",
       "AR              293.868992\n",
       "BATL            110.428000\n",
       "BCEI             55.931000\n",
       "BRY             222.956992\n",
       "BSM             170.716000\n",
       "CDEV            101.254000\n",
       "CHK             902.923072\n",
       "CLR            1025.046976\n",
       "CNX             485.319008\n",
       "COG             354.459008\n",
       "COP            5224.999936\n",
       "CPE              83.321000\n",
       "CRBO             18.751000\n",
       "CRC             319.000000\n",
       "CRK             101.681000\n",
       "DEN             300.492000\n",
       "DVN            1131.000064\n",
       "EGY              43.863000\n",
       "EOG            1395.547008\n",
       "EQT             355.119008\n",
       "ESTE             23.403000\n",
       "FANG            420.000000\n",
       "GDP              11.642000\n",
       "HES            1228.999936\n",
       "LONE             18.395000\n",
       "LPI              95.067000\n",
       "MCF              31.397000\n",
       "MGY             106.174000\n",
       "MNRL             14.362000\n",
       "MRO            1680.000000\n",
       "MTDR             89.190000\n",
       "MUR             508.356992\n",
       "NOG             390.875008\n",
       "OAS             151.542000\n",
       "OVV            1354.000000\n",
       "PDCE             89.554000\n",
       "PVAC             58.608000\n",
       "PXD             479.518976\n",
       "REI              17.922018\n",
       "RRC             235.122000\n",
       "SBOW             50.494000\n",
       "SD              154.568000\n",
       "SM              255.079008\n",
       "SWN             397.000000\n",
       "TALO            107.943000\n",
       "TPL             175.152992\n",
       "VNOM             57.411000\n",
       "WLL             324.648000\n",
       "WTI             115.643000\n",
       "XEC             324.080000\n",
       "XOG             115.777000\n",
       "¦Ъ¦-¦¬¦¦¦-8     115.777000\n",
       "Name: op_in, dtype: float64"
      ]
     },
     "execution_count": 87,
     "metadata": {},
     "output_type": "execute_result"
    }
   ],
   "source": [
    "Train_DF.groupby('company_name')['op_in'].max()"
   ]
  },
  {
   "cell_type": "code",
   "execution_count": 88,
   "metadata": {},
   "outputs": [
    {
     "data": {
      "text/plain": [
       "company_name            ¦Ъ¦-¦¬¦¦¦-8\n",
       "rev                    54174.998528\n",
       "date            2020-06-30 00:00:00\n",
       "op_in                   5224.999936\n",
       "dtype: object"
      ]
     },
     "execution_count": 88,
     "metadata": {},
     "output_type": "execute_result"
    }
   ],
   "source": [
    "Train_DF.max()"
   ]
  },
  {
   "cell_type": "code",
   "execution_count": 116,
   "metadata": {},
   "outputs": [
    {
     "data": {
      "text/plain": [
       "Text(0, 0.5, 'Counts')"
      ]
     },
     "execution_count": 116,
     "metadata": {},
     "output_type": "execute_result"
    },
    {
     "data": {
      "image/png": "[encoded data removed]",
      "text/plain": [
       "<Figure size 432x288 with 1 Axes>"
      ]
     },
     "metadata": {
      "needs_background": "light"
     },
     "output_type": "display_data"
    }
   ],
   "source": [
    "plt.hist(Train_DF.groupby('company_name')['rev'].mean())\n",
    "plt.xlabel('Mean revenue')\n",
    "plt.ylabel('Counts')\n"
   ]
  },
  {
   "cell_type": "code",
   "execution_count": 117,
   "metadata": {},
   "outputs": [
    {
     "data": {
      "text/plain": [
       "Text(0.5, 0, 'Mean revenue')"
      ]
     },
     "execution_count": 117,
     "metadata": {},
     "output_type": "execute_result"
    },
    {
     "data": {
      "image/png": "[encoded data removed]",
      "text/plain": [
       "<Figure size 432x288 with 1 Axes>"
      ]
     },
     "metadata": {
      "needs_background": "light"
     },
     "output_type": "display_data"
    }
   ],
   "source": [
    "plt.hist(Train_DF['rev'])\n",
    "plt.ylabel('Counts')\n",
    "plt.xlabel('Mean revenue')"
   ]
  },
  {
   "cell_type": "code",
   "execution_count": 118,
   "metadata": {},
   "outputs": [
    {
     "data": {
      "text/plain": [
       "Text(0.5, 0, 'Mean revenue')"
      ]
     },
     "execution_count": 118,
     "metadata": {},
     "output_type": "execute_result"
    },
    {
     "data": {
      "image/png": "[encoded data removed]",
      "text/plain": [
       "<Figure size 432x288 with 1 Axes>"
      ]
     },
     "metadata": {
      "needs_background": "light"
     },
     "output_type": "display_data"
    }
   ],
   "source": [
    "plt.hist(Train_DF['rev'].loc[Train_DF['rev'] < 500])\n",
    "plt.ylabel('Counts')\n",
    "plt.xlabel('Mean revenue')"
   ]
  },
  {
   "cell_type": "code",
   "execution_count": 106,
   "metadata": {},
   "outputs": [
    {
     "data": {
      "text/plain": [
       "244.555008"
      ]
     },
     "execution_count": 106,
     "metadata": {},
     "output_type": "execute_result"
    }
   ],
   "source": [
    "Train_DF.rev.median()"
   ]
  },
  {
   "cell_type": "code",
   "execution_count": 108,
   "metadata": {},
   "outputs": [
    {
     "data": {
      "text/plain": [
       "35.59656"
      ]
     },
     "execution_count": 108,
     "metadata": {},
     "output_type": "execute_result"
    }
   ],
   "source": [
    "Train_DF.op_in.median()"
   ]
  },
  {
   "cell_type": "code",
   "execution_count": 115,
   "metadata": {},
   "outputs": [
    {
     "data": {
      "text/plain": [
       "Text(0, 0.5, 'Counts')"
      ]
     },
     "execution_count": 115,
     "metadata": {},
     "output_type": "execute_result"
    },
    {
     "data": {
      "image/png": "[encoded data removed]",
      "text/plain": [
       "<Figure size 432x288 with 1 Axes>"
      ]
     },
     "metadata": {
      "needs_background": "light"
     },
     "output_type": "display_data"
    }
   ],
   "source": [
    "plt.hist(Train_DF['op_in'].loc[abs(Train_DF['op_in']) < 200 ])\n",
    "plt.xlabel('Mean op_in')\n",
    "plt.ylabel('Counts')"
   ]
  }
 ],
 "metadata": {
  "kernelspec": {
   "display_name": "Python 3.9.1 64-bit",
   "language": "python",
   "name": "python3"
  },
  "language_info": {
   "codemirror_mode": {
    "name": "ipython",
    "version": 3
   },
   "file_extension": ".py",
   "mimetype": "text/x-python",
   "name": "python",
   "nbconvert_exporter": "python",
   "pygments_lexer": "ipython3",
   "version": "3.9.1"
  },
  "orig_nbformat": 4,
  "vscode": {
   "interpreter": {
    "hash": "c8be88799e4e7977f60998f2522923f1f9268b787ed3a9315cdbced7a5f47631"
   }
  }
 },
 "nbformat": 4,
 "nbformat_minor": 2
}
