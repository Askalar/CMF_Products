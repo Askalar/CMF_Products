{
 "cells": [
  {
   "cell_type": "markdown",
   "metadata": {},
   "source": [
    "Libralies"
   ]
  },
  {
   "cell_type": "code",
   "execution_count": 1,
   "metadata": {},
   "outputs": [],
   "source": [
    "import pandas as pd\n",
    "import numpy as np\n",
    "import os\n",
    "import matplotlib.pyplot as plt"
   ]
  },
  {
   "cell_type": "markdown",
   "metadata": {},
   "source": [
    "Constants"
   ]
  },
  {
   "cell_type": "code",
   "execution_count": 2,
   "metadata": {},
   "outputs": [],
   "source": [
    "PATH_OF_TRAIN_DATA = os.path.dirname(os.path.abspath('eda.ipynb')) + '\\\\oil_gas_train\\\\'\n",
    "PATH_OF_TEST_DATA = os.path.dirname(os.path.abspath('eda.ipynb')) + '\\\\oil_gas_train_test\\\\'"
   ]
  },
  {
   "cell_type": "markdown",
   "metadata": {},
   "source": [
    "Download data"
   ]
  },
  {
   "cell_type": "code",
   "execution_count": 3,
   "metadata": {},
   "outputs": [],
   "source": [
    "def download_data(path: str) -> pd.DataFrame:\n",
    "    names_of_train_tables = os.listdir(path)\n",
    "    # i do not want to append data to dataframe by parts, so i use dictionary at the beginning\n",
    "    Container_for_dataframe = {\"company_name\": [], \"rev\": [], \"date\": [], \"op_in\": []}\n",
    "    for name in names_of_train_tables:\n",
    "        name_of_table = PATH_OF_TRAIN_DATA + name\n",
    "        data = pd.read_excel(name_of_table)\n",
    "        rev = data.iloc[28].tolist()[9:51]\n",
    "        date = data.iloc[27].tolist()[9:51]\n",
    "        op_in = data.iloc[42].tolist()[9:51]\n",
    "        company_name = name[:-5]\n",
    "        for i in range(len(rev)):\n",
    "            Container_for_dataframe[\"company_name\"].append(company_name)\n",
    "            Container_for_dataframe[\"rev\"].append(rev[i])\n",
    "            Container_for_dataframe[\"date\"].append(date[i])\n",
    "            Container_for_dataframe[\"op_in\"].append(op_in[i])\n",
    "    DF = pd.DataFrame(Container_for_dataframe)\n",
    "    #don't want to get null data\n",
    "    DF = DF.loc[DF['rev'] != 0]\n",
    "    return DF"
   ]
  },
  {
   "cell_type": "markdown",
   "metadata": {},
   "source": [
    "Next, I see the format and properties of the data"
   ]
  },
  {
   "cell_type": "code",
   "execution_count": 4,
   "metadata": {},
   "outputs": [],
   "source": [
    "Train_DF = download_data(PATH_OF_TRAIN_DATA)"
   ]
  },
  {
   "cell_type": "code",
   "execution_count": 5,
   "metadata": {},
   "outputs": [
    {
     "data": {
      "text/plain": [
       "(1833, 4)"
      ]
     },
     "execution_count": 5,
     "metadata": {},
     "output_type": "execute_result"
    }
   ],
   "source": [
    "Train_DF.shape"
   ]
  },
  {
   "cell_type": "code",
   "execution_count": 6,
   "metadata": {},
   "outputs": [
    {
     "data": {
      "text/html": [
       "<div>\n",
       "<style scoped>\n",
       "    .dataframe tbody tr th:only-of-type {\n",
       "        vertical-align: middle;\n",
       "    }\n",
       "\n",
       "    .dataframe tbody tr th {\n",
       "        vertical-align: top;\n",
       "    }\n",
       "\n",
       "    .dataframe thead th {\n",
       "        text-align: right;\n",
       "    }\n",
       "</style>\n",
       "<table border=\"1\" class=\"dataframe\">\n",
       "  <thead>\n",
       "    <tr style=\"text-align: right;\">\n",
       "      <th></th>\n",
       "      <th>company_name</th>\n",
       "      <th>rev</th>\n",
       "      <th>date</th>\n",
       "      <th>op_in</th>\n",
       "    </tr>\n",
       "  </thead>\n",
       "  <tbody>\n",
       "    <tr>\n",
       "      <th>532</th>\n",
       "      <td>CRBO</td>\n",
       "      <td>0.000280</td>\n",
       "      <td>2009-06-30</td>\n",
       "      <td>-0.006492</td>\n",
       "    </tr>\n",
       "    <tr>\n",
       "      <th>533</th>\n",
       "      <td>CRBO</td>\n",
       "      <td>0.000260</td>\n",
       "      <td>2009-09-30</td>\n",
       "      <td>-0.009773</td>\n",
       "    </tr>\n",
       "    <tr>\n",
       "      <th>534</th>\n",
       "      <td>CRBO</td>\n",
       "      <td>0.000202</td>\n",
       "      <td>2009-12-31</td>\n",
       "      <td>-0.007879</td>\n",
       "    </tr>\n",
       "    <tr>\n",
       "      <th>535</th>\n",
       "      <td>CRBO</td>\n",
       "      <td>0.100144</td>\n",
       "      <td>2010-03-31</td>\n",
       "      <td>0.087908</td>\n",
       "    </tr>\n",
       "    <tr>\n",
       "      <th>536</th>\n",
       "      <td>CRBO</td>\n",
       "      <td>1.412895</td>\n",
       "      <td>2011-03-31</td>\n",
       "      <td>-0.918040</td>\n",
       "    </tr>\n",
       "    <tr>\n",
       "      <th>537</th>\n",
       "      <td>CRBO</td>\n",
       "      <td>1.252889</td>\n",
       "      <td>2011-06-30</td>\n",
       "      <td>-1.983994</td>\n",
       "    </tr>\n",
       "    <tr>\n",
       "      <th>538</th>\n",
       "      <td>CRBO</td>\n",
       "      <td>3.834328</td>\n",
       "      <td>2011-09-30</td>\n",
       "      <td>-3.454983</td>\n",
       "    </tr>\n",
       "    <tr>\n",
       "      <th>539</th>\n",
       "      <td>CRBO</td>\n",
       "      <td>3.202888</td>\n",
       "      <td>2011-12-31</td>\n",
       "      <td>4.805017</td>\n",
       "    </tr>\n",
       "    <tr>\n",
       "      <th>540</th>\n",
       "      <td>CRBO</td>\n",
       "      <td>2.971000</td>\n",
       "      <td>2012-03-31</td>\n",
       "      <td>-0.626000</td>\n",
       "    </tr>\n",
       "    <tr>\n",
       "      <th>541</th>\n",
       "      <td>CRBO</td>\n",
       "      <td>2.495000</td>\n",
       "      <td>2012-06-30</td>\n",
       "      <td>-0.487000</td>\n",
       "    </tr>\n",
       "    <tr>\n",
       "      <th>542</th>\n",
       "      <td>CRBO</td>\n",
       "      <td>2.685000</td>\n",
       "      <td>2012-09-30</td>\n",
       "      <td>-0.005000</td>\n",
       "    </tr>\n",
       "    <tr>\n",
       "      <th>543</th>\n",
       "      <td>CRBO</td>\n",
       "      <td>3.925000</td>\n",
       "      <td>2012-12-31</td>\n",
       "      <td>-0.026000</td>\n",
       "    </tr>\n",
       "    <tr>\n",
       "      <th>544</th>\n",
       "      <td>CRBO</td>\n",
       "      <td>3.284000</td>\n",
       "      <td>2013-03-31</td>\n",
       "      <td>0.153000</td>\n",
       "    </tr>\n",
       "    <tr>\n",
       "      <th>545</th>\n",
       "      <td>CRBO</td>\n",
       "      <td>5.045000</td>\n",
       "      <td>2013-06-30</td>\n",
       "      <td>1.703000</td>\n",
       "    </tr>\n",
       "    <tr>\n",
       "      <th>546</th>\n",
       "      <td>CRBO</td>\n",
       "      <td>4.949000</td>\n",
       "      <td>2013-09-30</td>\n",
       "      <td>1.449000</td>\n",
       "    </tr>\n",
       "    <tr>\n",
       "      <th>547</th>\n",
       "      <td>CRBO</td>\n",
       "      <td>5.360000</td>\n",
       "      <td>2013-12-31</td>\n",
       "      <td>1.635000</td>\n",
       "    </tr>\n",
       "    <tr>\n",
       "      <th>548</th>\n",
       "      <td>CRBO</td>\n",
       "      <td>5.697000</td>\n",
       "      <td>2014-03-31</td>\n",
       "      <td>1.490000</td>\n",
       "    </tr>\n",
       "    <tr>\n",
       "      <th>549</th>\n",
       "      <td>CRBO</td>\n",
       "      <td>5.754000</td>\n",
       "      <td>2014-06-30</td>\n",
       "      <td>1.995000</td>\n",
       "    </tr>\n",
       "    <tr>\n",
       "      <th>550</th>\n",
       "      <td>CRBO</td>\n",
       "      <td>6.435000</td>\n",
       "      <td>2014-09-30</td>\n",
       "      <td>2.176000</td>\n",
       "    </tr>\n",
       "    <tr>\n",
       "      <th>551</th>\n",
       "      <td>CRBO</td>\n",
       "      <td>4.542000</td>\n",
       "      <td>2014-12-31</td>\n",
       "      <td>0.766000</td>\n",
       "    </tr>\n",
       "    <tr>\n",
       "      <th>552</th>\n",
       "      <td>CRBO</td>\n",
       "      <td>3.393000</td>\n",
       "      <td>2015-03-31</td>\n",
       "      <td>-0.590000</td>\n",
       "    </tr>\n",
       "    <tr>\n",
       "      <th>553</th>\n",
       "      <td>CRBO</td>\n",
       "      <td>2.741000</td>\n",
       "      <td>2015-06-30</td>\n",
       "      <td>-1.143000</td>\n",
       "    </tr>\n",
       "    <tr>\n",
       "      <th>554</th>\n",
       "      <td>CRBO</td>\n",
       "      <td>3.077000</td>\n",
       "      <td>2015-09-30</td>\n",
       "      <td>-0.943000</td>\n",
       "    </tr>\n",
       "    <tr>\n",
       "      <th>555</th>\n",
       "      <td>CRBO</td>\n",
       "      <td>2.467000</td>\n",
       "      <td>2015-12-31</td>\n",
       "      <td>0.991000</td>\n",
       "    </tr>\n",
       "    <tr>\n",
       "      <th>556</th>\n",
       "      <td>CRBO</td>\n",
       "      <td>1.923000</td>\n",
       "      <td>2016-03-31</td>\n",
       "      <td>-1.234000</td>\n",
       "    </tr>\n",
       "    <tr>\n",
       "      <th>557</th>\n",
       "      <td>CRBO</td>\n",
       "      <td>1.899000</td>\n",
       "      <td>2016-06-30</td>\n",
       "      <td>-1.286000</td>\n",
       "    </tr>\n",
       "    <tr>\n",
       "      <th>558</th>\n",
       "      <td>CRBO</td>\n",
       "      <td>2.222000</td>\n",
       "      <td>2016-09-30</td>\n",
       "      <td>-1.703000</td>\n",
       "    </tr>\n",
       "    <tr>\n",
       "      <th>559</th>\n",
       "      <td>CRBO</td>\n",
       "      <td>4.641000</td>\n",
       "      <td>2016-12-31</td>\n",
       "      <td>-1.506000</td>\n",
       "    </tr>\n",
       "    <tr>\n",
       "      <th>560</th>\n",
       "      <td>CRBO</td>\n",
       "      <td>5.026000</td>\n",
       "      <td>2017-03-31</td>\n",
       "      <td>0.599000</td>\n",
       "    </tr>\n",
       "    <tr>\n",
       "      <th>561</th>\n",
       "      <td>CRBO</td>\n",
       "      <td>5.321000</td>\n",
       "      <td>2017-06-30</td>\n",
       "      <td>0.589000</td>\n",
       "    </tr>\n",
       "    <tr>\n",
       "      <th>562</th>\n",
       "      <td>CRBO</td>\n",
       "      <td>5.039000</td>\n",
       "      <td>2017-09-30</td>\n",
       "      <td>0.151000</td>\n",
       "    </tr>\n",
       "    <tr>\n",
       "      <th>563</th>\n",
       "      <td>CRBO</td>\n",
       "      <td>4.929000</td>\n",
       "      <td>2017-12-31</td>\n",
       "      <td>-0.289000</td>\n",
       "    </tr>\n",
       "    <tr>\n",
       "      <th>564</th>\n",
       "      <td>CRBO</td>\n",
       "      <td>6.722000</td>\n",
       "      <td>2018-03-31</td>\n",
       "      <td>-0.118000</td>\n",
       "    </tr>\n",
       "    <tr>\n",
       "      <th>565</th>\n",
       "      <td>CRBO</td>\n",
       "      <td>11.496000</td>\n",
       "      <td>2018-06-30</td>\n",
       "      <td>1.826000</td>\n",
       "    </tr>\n",
       "    <tr>\n",
       "      <th>566</th>\n",
       "      <td>CRBO</td>\n",
       "      <td>15.536000</td>\n",
       "      <td>2018-09-30</td>\n",
       "      <td>3.309000</td>\n",
       "    </tr>\n",
       "    <tr>\n",
       "      <th>567</th>\n",
       "      <td>CRBO</td>\n",
       "      <td>10.555000</td>\n",
       "      <td>2018-12-31</td>\n",
       "      <td>-3.141000</td>\n",
       "    </tr>\n",
       "    <tr>\n",
       "      <th>568</th>\n",
       "      <td>CRBO</td>\n",
       "      <td>33.800000</td>\n",
       "      <td>2019-03-31</td>\n",
       "      <td>5.055000</td>\n",
       "    </tr>\n",
       "    <tr>\n",
       "      <th>569</th>\n",
       "      <td>CRBO</td>\n",
       "      <td>28.386000</td>\n",
       "      <td>2019-06-30</td>\n",
       "      <td>2.132000</td>\n",
       "    </tr>\n",
       "    <tr>\n",
       "      <th>570</th>\n",
       "      <td>CRBO</td>\n",
       "      <td>27.369000</td>\n",
       "      <td>2019-09-30</td>\n",
       "      <td>4.201000</td>\n",
       "    </tr>\n",
       "    <tr>\n",
       "      <th>571</th>\n",
       "      <td>CRBO</td>\n",
       "      <td>27.569000</td>\n",
       "      <td>2019-12-31</td>\n",
       "      <td>0.868000</td>\n",
       "    </tr>\n",
       "    <tr>\n",
       "      <th>572</th>\n",
       "      <td>CRBO</td>\n",
       "      <td>42.465000</td>\n",
       "      <td>2020-03-31</td>\n",
       "      <td>18.751000</td>\n",
       "    </tr>\n",
       "    <tr>\n",
       "      <th>573</th>\n",
       "      <td>CRBO</td>\n",
       "      <td>15.973000</td>\n",
       "      <td>2020-06-30</td>\n",
       "      <td>-2.335000</td>\n",
       "    </tr>\n",
       "  </tbody>\n",
       "</table>\n",
       "</div>"
      ],
      "text/plain": [
       "    company_name        rev       date      op_in\n",
       "532         CRBO   0.000280 2009-06-30  -0.006492\n",
       "533         CRBO   0.000260 2009-09-30  -0.009773\n",
       "534         CRBO   0.000202 2009-12-31  -0.007879\n",
       "535         CRBO   0.100144 2010-03-31   0.087908\n",
       "536         CRBO   1.412895 2011-03-31  -0.918040\n",
       "537         CRBO   1.252889 2011-06-30  -1.983994\n",
       "538         CRBO   3.834328 2011-09-30  -3.454983\n",
       "539         CRBO   3.202888 2011-12-31   4.805017\n",
       "540         CRBO   2.971000 2012-03-31  -0.626000\n",
       "541         CRBO   2.495000 2012-06-30  -0.487000\n",
       "542         CRBO   2.685000 2012-09-30  -0.005000\n",
       "543         CRBO   3.925000 2012-12-31  -0.026000\n",
       "544         CRBO   3.284000 2013-03-31   0.153000\n",
       "545         CRBO   5.045000 2013-06-30   1.703000\n",
       "546         CRBO   4.949000 2013-09-30   1.449000\n",
       "547         CRBO   5.360000 2013-12-31   1.635000\n",
       "548         CRBO   5.697000 2014-03-31   1.490000\n",
       "549         CRBO   5.754000 2014-06-30   1.995000\n",
       "550         CRBO   6.435000 2014-09-30   2.176000\n",
       "551         CRBO   4.542000 2014-12-31   0.766000\n",
       "552         CRBO   3.393000 2015-03-31  -0.590000\n",
       "553         CRBO   2.741000 2015-06-30  -1.143000\n",
       "554         CRBO   3.077000 2015-09-30  -0.943000\n",
       "555         CRBO   2.467000 2015-12-31   0.991000\n",
       "556         CRBO   1.923000 2016-03-31  -1.234000\n",
       "557         CRBO   1.899000 2016-06-30  -1.286000\n",
       "558         CRBO   2.222000 2016-09-30  -1.703000\n",
       "559         CRBO   4.641000 2016-12-31  -1.506000\n",
       "560         CRBO   5.026000 2017-03-31   0.599000\n",
       "561         CRBO   5.321000 2017-06-30   0.589000\n",
       "562         CRBO   5.039000 2017-09-30   0.151000\n",
       "563         CRBO   4.929000 2017-12-31  -0.289000\n",
       "564         CRBO   6.722000 2018-03-31  -0.118000\n",
       "565         CRBO  11.496000 2018-06-30   1.826000\n",
       "566         CRBO  15.536000 2018-09-30   3.309000\n",
       "567         CRBO  10.555000 2018-12-31  -3.141000\n",
       "568         CRBO  33.800000 2019-03-31   5.055000\n",
       "569         CRBO  28.386000 2019-06-30   2.132000\n",
       "570         CRBO  27.369000 2019-09-30   4.201000\n",
       "571         CRBO  27.569000 2019-12-31   0.868000\n",
       "572         CRBO  42.465000 2020-03-31  18.751000\n",
       "573         CRBO  15.973000 2020-06-30  -2.335000"
      ]
     },
     "execution_count": 6,
     "metadata": {},
     "output_type": "execute_result"
    }
   ],
   "source": [
    "Train_DF.loc[Train_DF['company_name'] == \"CRBO\"]"
   ]
  },
  {
   "cell_type": "code",
   "execution_count": 7,
   "metadata": {},
   "outputs": [
    {
     "data": {
      "text/html": [
       "<div>\n",
       "<style scoped>\n",
       "    .dataframe tbody tr th:only-of-type {\n",
       "        vertical-align: middle;\n",
       "    }\n",
       "\n",
       "    .dataframe tbody tr th {\n",
       "        vertical-align: top;\n",
       "    }\n",
       "\n",
       "    .dataframe thead th {\n",
       "        text-align: right;\n",
       "    }\n",
       "</style>\n",
       "<table border=\"1\" class=\"dataframe\">\n",
       "  <thead>\n",
       "    <tr style=\"text-align: right;\">\n",
       "      <th></th>\n",
       "      <th>company_name</th>\n",
       "      <th>rev</th>\n",
       "      <th>date</th>\n",
       "      <th>op_in</th>\n",
       "    </tr>\n",
       "  </thead>\n",
       "  <tbody>\n",
       "    <tr>\n",
       "      <th>3</th>\n",
       "      <td>AMPY</td>\n",
       "      <td>61.863</td>\n",
       "      <td>2011-12-31</td>\n",
       "      <td>-32.289</td>\n",
       "    </tr>\n",
       "    <tr>\n",
       "      <th>4</th>\n",
       "      <td>AMPY</td>\n",
       "      <td>48.410</td>\n",
       "      <td>2012-03-31</td>\n",
       "      <td>2.342</td>\n",
       "    </tr>\n",
       "    <tr>\n",
       "      <th>5</th>\n",
       "      <td>AMPY</td>\n",
       "      <td>49.259</td>\n",
       "      <td>2012-06-30</td>\n",
       "      <td>4.064</td>\n",
       "    </tr>\n",
       "    <tr>\n",
       "      <th>6</th>\n",
       "      <td>AMPY</td>\n",
       "      <td>55.498</td>\n",
       "      <td>2012-09-30</td>\n",
       "      <td>3.674</td>\n",
       "    </tr>\n",
       "    <tr>\n",
       "      <th>7</th>\n",
       "      <td>AMPY</td>\n",
       "      <td>89.839</td>\n",
       "      <td>2012-12-31</td>\n",
       "      <td>20.680</td>\n",
       "    </tr>\n",
       "  </tbody>\n",
       "</table>\n",
       "</div>"
      ],
      "text/plain": [
       "  company_name     rev       date   op_in\n",
       "3         AMPY  61.863 2011-12-31 -32.289\n",
       "4         AMPY  48.410 2012-03-31   2.342\n",
       "5         AMPY  49.259 2012-06-30   4.064\n",
       "6         AMPY  55.498 2012-09-30   3.674\n",
       "7         AMPY  89.839 2012-12-31  20.680"
      ]
     },
     "execution_count": 7,
     "metadata": {},
     "output_type": "execute_result"
    }
   ],
   "source": [
    "Train_DF.head()"
   ]
  },
  {
   "cell_type": "code",
   "execution_count": 8,
   "metadata": {},
   "outputs": [
    {
     "data": {
      "text/plain": [
       "company_name\n",
       "AMPY             56.431000\n",
       "APA            2227.000064\n",
       "AR              293.868992\n",
       "BATL            110.428000\n",
       "BCEI             55.931000\n",
       "BRY             222.956992\n",
       "BSM             170.716000\n",
       "CDEV            101.254000\n",
       "CHK             902.923072\n",
       "CLR            1025.046976\n",
       "CNX             485.319008\n",
       "COG             354.459008\n",
       "COP            5224.999936\n",
       "CPE              83.321000\n",
       "CRBO             18.751000\n",
       "CRC             319.000000\n",
       "CRK             101.681000\n",
       "DEN             300.492000\n",
       "DVN            1131.000064\n",
       "EGY              43.863000\n",
       "EOG            1395.547008\n",
       "EQT             355.119008\n",
       "ESTE             23.403000\n",
       "FANG            420.000000\n",
       "GDP              11.642000\n",
       "HES            1228.999936\n",
       "LONE             18.395000\n",
       "LPI              95.067000\n",
       "MCF              31.397000\n",
       "MGY             106.174000\n",
       "MNRL             14.362000\n",
       "MRO            1680.000000\n",
       "MTDR             89.190000\n",
       "MUR             508.356992\n",
       "NOG             390.875008\n",
       "OAS             151.542000\n",
       "OVV            1354.000000\n",
       "PDCE             89.554000\n",
       "PVAC             58.608000\n",
       "PXD             479.518976\n",
       "REI              17.922018\n",
       "RRC             235.122000\n",
       "SBOW             50.494000\n",
       "SD              154.568000\n",
       "SM              255.079008\n",
       "SWN             397.000000\n",
       "TALO            107.943000\n",
       "TPL             175.152992\n",
       "VNOM             57.411000\n",
       "WLL             324.648000\n",
       "WTI             115.643000\n",
       "XEC             324.080000\n",
       "XOG             115.777000\n",
       "¦Ъ¦-¦¬¦¦¦-8     115.777000\n",
       "Name: op_in, dtype: float64"
      ]
     },
     "execution_count": 8,
     "metadata": {},
     "output_type": "execute_result"
    }
   ],
   "source": [
    "Train_DF.groupby('company_name')['op_in'].max()"
   ]
  },
  {
   "cell_type": "code",
   "execution_count": 9,
   "metadata": {},
   "outputs": [
    {
     "data": {
      "text/plain": [
       "company_name            ¦Ъ¦-¦¬¦¦¦-8\n",
       "rev                    54174.998528\n",
       "date            2020-06-30 00:00:00\n",
       "op_in                   5224.999936\n",
       "dtype: object"
      ]
     },
     "execution_count": 9,
     "metadata": {},
     "output_type": "execute_result"
    }
   ],
   "source": [
    "Train_DF.max()"
   ]
  },
  {
   "cell_type": "markdown",
   "metadata": {},
   "source": [
    "Most of data are concentrated within a few thousand"
   ]
  },
  {
   "cell_type": "code",
   "execution_count": 10,
   "metadata": {},
   "outputs": [
    {
     "data": {
      "text/plain": [
       "Text(0, 0.5, 'Counts')"
      ]
     },
     "execution_count": 10,
     "metadata": {},
     "output_type": "execute_result"
    },
    {
     "data": {
      "image/png": "[encoded data removed]",
      "text/plain": [
       "<Figure size 432x288 with 1 Axes>"
      ]
     },
     "metadata": {
      "needs_background": "light"
     },
     "output_type": "display_data"
    }
   ],
   "source": [
    "plt.hist(Train_DF.groupby('company_name')['rev'].mean())\n",
    "plt.xlabel('Mean revenue')\n",
    "plt.ylabel('Counts')\n"
   ]
  },
  {
   "cell_type": "markdown",
   "metadata": {},
   "source": [
    "Most of them are concentrated within a few thousand, so I look at the smallest piece"
   ]
  },
  {
   "cell_type": "code",
   "execution_count": 11,
   "metadata": {},
   "outputs": [
    {
     "data": {
      "text/plain": [
       "Text(0.5, 0, 'Mean revenue')"
      ]
     },
     "execution_count": 11,
     "metadata": {},
     "output_type": "execute_result"
    },
    {
     "data": {
      "image/png": "[encoded data removed]",
      "text/plain": [
       "<Figure size 432x288 with 1 Axes>"
      ]
     },
     "metadata": {
      "needs_background": "light"
     },
     "output_type": "display_data"
    }
   ],
   "source": [
    "plt.hist(Train_DF['rev'])\n",
    "plt.ylabel('Counts')\n",
    "plt.xlabel('Mean revenue')"
   ]
  },
  {
   "cell_type": "markdown",
   "metadata": {},
   "source": [
    "Something vaguely resembles a normal distribution, but this is clearly not it"
   ]
  },
  {
   "cell_type": "code",
   "execution_count": 12,
   "metadata": {},
   "outputs": [
    {
     "data": {
      "text/plain": [
       "Text(0.5, 0, 'Mean revenue')"
      ]
     },
     "execution_count": 12,
     "metadata": {},
     "output_type": "execute_result"
    },
    {
     "data": {
      "image/png": "[encoded data removed]",
      "text/plain": [
       "<Figure size 432x288 with 1 Axes>"
      ]
     },
     "metadata": {
      "needs_background": "light"
     },
     "output_type": "display_data"
    }
   ],
   "source": [
    "plt.hist(Train_DF['rev'].loc[Train_DF['rev'] < 500])\n",
    "plt.ylabel('Counts')\n",
    "plt.xlabel('Mean revenue')"
   ]
  },
  {
   "cell_type": "code",
   "execution_count": 13,
   "metadata": {},
   "outputs": [
    {
     "data": {
      "text/plain": [
       "244.555008"
      ]
     },
     "execution_count": 13,
     "metadata": {},
     "output_type": "execute_result"
    }
   ],
   "source": [
    "Train_DF.rev.median()"
   ]
  },
  {
   "cell_type": "code",
   "execution_count": 14,
   "metadata": {},
   "outputs": [
    {
     "data": {
      "text/plain": [
       "35.59656"
      ]
     },
     "execution_count": 14,
     "metadata": {},
     "output_type": "execute_result"
    }
   ],
   "source": [
    "Train_DF.op_in.median()"
   ]
  },
  {
   "cell_type": "markdown",
   "metadata": {},
   "source": [
    "It also reminds a normal distribution, but it is asymmetrical and with large tails"
   ]
  },
  {
   "cell_type": "code",
   "execution_count": 15,
   "metadata": {},
   "outputs": [
    {
     "data": {
      "text/plain": [
       "Text(0, 0.5, 'Counts')"
      ]
     },
     "execution_count": 15,
     "metadata": {},
     "output_type": "execute_result"
    },
    {
     "data": {
      "image/png": "[encoded data removed]",
      "text/plain": [
       "<Figure size 432x288 with 1 Axes>"
      ]
     },
     "metadata": {
      "needs_background": "light"
     },
     "output_type": "display_data"
    }
   ],
   "source": [
    "plt.hist(Train_DF['op_in'].loc[abs(Train_DF['op_in']) < 200 ])\n",
    "plt.xlabel('Mean op_in')\n",
    "plt.ylabel('Counts')"
   ]
  },
  {
   "cell_type": "code",
   "execution_count": 16,
   "metadata": {},
   "outputs": [
    {
     "data": {
      "text/html": [
       "<div>\n",
       "<style scoped>\n",
       "    .dataframe tbody tr th:only-of-type {\n",
       "        vertical-align: middle;\n",
       "    }\n",
       "\n",
       "    .dataframe tbody tr th {\n",
       "        vertical-align: top;\n",
       "    }\n",
       "\n",
       "    .dataframe thead th {\n",
       "        text-align: right;\n",
       "    }\n",
       "</style>\n",
       "<table border=\"1\" class=\"dataframe\">\n",
       "  <thead>\n",
       "    <tr style=\"text-align: right;\">\n",
       "      <th></th>\n",
       "      <th>company_name</th>\n",
       "      <th>rev</th>\n",
       "      <th>date</th>\n",
       "      <th>op_in</th>\n",
       "    </tr>\n",
       "  </thead>\n",
       "  <tbody>\n",
       "    <tr>\n",
       "      <th>3</th>\n",
       "      <td>AMPY</td>\n",
       "      <td>61.863000</td>\n",
       "      <td>2011-12-31</td>\n",
       "      <td>-32.289</td>\n",
       "    </tr>\n",
       "    <tr>\n",
       "      <th>4</th>\n",
       "      <td>AMPY</td>\n",
       "      <td>48.410000</td>\n",
       "      <td>2012-03-31</td>\n",
       "      <td>2.342</td>\n",
       "    </tr>\n",
       "    <tr>\n",
       "      <th>5</th>\n",
       "      <td>AMPY</td>\n",
       "      <td>49.259000</td>\n",
       "      <td>2012-06-30</td>\n",
       "      <td>4.064</td>\n",
       "    </tr>\n",
       "    <tr>\n",
       "      <th>6</th>\n",
       "      <td>AMPY</td>\n",
       "      <td>55.498000</td>\n",
       "      <td>2012-09-30</td>\n",
       "      <td>3.674</td>\n",
       "    </tr>\n",
       "    <tr>\n",
       "      <th>7</th>\n",
       "      <td>AMPY</td>\n",
       "      <td>89.839000</td>\n",
       "      <td>2012-12-31</td>\n",
       "      <td>20.680</td>\n",
       "    </tr>\n",
       "    <tr>\n",
       "      <th>...</th>\n",
       "      <td>...</td>\n",
       "      <td>...</td>\n",
       "      <td>...</td>\n",
       "      <td>...</td>\n",
       "    </tr>\n",
       "    <tr>\n",
       "      <th>2051</th>\n",
       "      <td>¦Ъ¦-¦¬¦¦¦-8</td>\n",
       "      <td>236.260000</td>\n",
       "      <td>2019-06-30</td>\n",
       "      <td>19.823</td>\n",
       "    </tr>\n",
       "    <tr>\n",
       "      <th>2052</th>\n",
       "      <td>¦Ъ¦-¦¬¦¦¦-8</td>\n",
       "      <td>176.942000</td>\n",
       "      <td>2019-09-30</td>\n",
       "      <td>-18.356</td>\n",
       "    </tr>\n",
       "    <tr>\n",
       "      <th>2053</th>\n",
       "      <td>¦Ъ¦-¦¬¦¦¦-8</td>\n",
       "      <td>230.844000</td>\n",
       "      <td>2019-12-31</td>\n",
       "      <td>-87.464</td>\n",
       "    </tr>\n",
       "    <tr>\n",
       "      <th>2054</th>\n",
       "      <td>¦Ъ¦-¦¬¦¦¦-8</td>\n",
       "      <td>165.187008</td>\n",
       "      <td>2020-03-31</td>\n",
       "      <td>-157.080</td>\n",
       "    </tr>\n",
       "    <tr>\n",
       "      <th>2055</th>\n",
       "      <td>¦Ъ¦-¦¬¦¦¦-8</td>\n",
       "      <td>63.129000</td>\n",
       "      <td>2020-06-30</td>\n",
       "      <td>-174.478</td>\n",
       "    </tr>\n",
       "  </tbody>\n",
       "</table>\n",
       "<p>1833 rows × 4 columns</p>\n",
       "</div>"
      ],
      "text/plain": [
       "     company_name         rev       date    op_in\n",
       "3            AMPY   61.863000 2011-12-31  -32.289\n",
       "4            AMPY   48.410000 2012-03-31    2.342\n",
       "5            AMPY   49.259000 2012-06-30    4.064\n",
       "6            AMPY   55.498000 2012-09-30    3.674\n",
       "7            AMPY   89.839000 2012-12-31   20.680\n",
       "...           ...         ...        ...      ...\n",
       "2051  ¦Ъ¦-¦¬¦¦¦-8  236.260000 2019-06-30   19.823\n",
       "2052  ¦Ъ¦-¦¬¦¦¦-8  176.942000 2019-09-30  -18.356\n",
       "2053  ¦Ъ¦-¦¬¦¦¦-8  230.844000 2019-12-31  -87.464\n",
       "2054  ¦Ъ¦-¦¬¦¦¦-8  165.187008 2020-03-31 -157.080\n",
       "2055  ¦Ъ¦-¦¬¦¦¦-8   63.129000 2020-06-30 -174.478\n",
       "\n",
       "[1833 rows x 4 columns]"
      ]
     },
     "execution_count": 16,
     "metadata": {},
     "output_type": "execute_result"
    }
   ],
   "source": [
    "Train_DF"
   ]
  },
  {
   "cell_type": "markdown",
   "metadata": {},
   "source": [
    "I want to see the most appropriate distribution of data into clusters"
   ]
  },
  {
   "cell_type": "code",
   "execution_count": 17,
   "metadata": {},
   "outputs": [],
   "source": [
    "from sklearn.cluster import KMeans"
   ]
  },
  {
   "cell_type": "code",
   "execution_count": 18,
   "metadata": {},
   "outputs": [],
   "source": [
    "revenues = pd.DataFrame(Train_DF.groupby('company_name')['rev'].mean())\n",
    "op_ins = pd.DataFrame(Train_DF.groupby('company_name')['op_in'].mean())\n",
    "clasterization = pd.concat([revenues,op_ins], axis=1, join='inner').reset_index()"
   ]
  },
  {
   "cell_type": "markdown",
   "metadata": {},
   "source": [
    "Distributed the data across three clusters using k-means"
   ]
  },
  {
   "cell_type": "code",
   "execution_count": 19,
   "metadata": {},
   "outputs": [
    {
     "name": "stdout",
     "output_type": "stream",
     "text": [
      "[[ 2461.66830095]\n",
      " [  266.53333639]\n",
      " [11246.84206484]]\n"
     ]
    },
    {
     "data": {
      "text/plain": [
       "array([1, 0, 1, 1, 1, 1, 1, 1, 0, 1, 1, 1, 2, 1, 1, 1, 1, 1, 0, 1, 0, 1,\n",
       "       1, 1, 1, 0, 1, 1, 1, 1, 1, 0, 1, 0, 1, 1, 0, 1, 1, 1, 1, 1, 1, 1,\n",
       "       1, 1, 1, 1, 1, 1, 1, 1, 1, 1])"
      ]
     },
     "execution_count": 19,
     "metadata": {},
     "output_type": "execute_result"
    }
   ],
   "source": [
    "kmeans = KMeans(n_clusters=3) \n",
    "kmeans.fit(np.array(clasterization['rev']).reshape((-1,1)), clasterization['op_in'])\n",
    "print(kmeans.cluster_centers_)\n",
    "kmeans.labels_\n"
   ]
  },
  {
   "cell_type": "markdown",
   "metadata": {},
   "source": [
    "Distribution by clusters. There are three clusters, and in one of them there is only one point with drastically different values from others. So i just drop it."
   ]
  },
  {
   "cell_type": "code",
   "execution_count": 20,
   "metadata": {},
   "outputs": [
    {
     "data": {
      "text/plain": [
       "<matplotlib.collections.PathCollection at 0x18dffa245e0>"
      ]
     },
     "execution_count": 20,
     "metadata": {},
     "output_type": "execute_result"
    },
    {
     "data": {
      "image/png": "[encoded data removed]",
      "text/plain": [
       "<Figure size 432x288 with 1 Axes>"
      ]
     },
     "metadata": {
      "needs_background": "light"
     },
     "output_type": "display_data"
    }
   ],
   "source": [
    "plt.scatter(np.array(clasterization['rev']).reshape((-1,1)), clasterization['op_in'], c=kmeans.labels_, cmap='rainbow')"
   ]
  },
  {
   "cell_type": "code",
   "execution_count": 21,
   "metadata": {},
   "outputs": [],
   "source": [
    "clasterization['claster'] = kmeans.labels_"
   ]
  },
  {
   "cell_type": "code",
   "execution_count": 22,
   "metadata": {},
   "outputs": [
    {
     "data": {
      "text/plain": [
       "1    45\n",
       "0     8\n",
       "2     1\n",
       "Name: claster, dtype: int64"
      ]
     },
     "execution_count": 22,
     "metadata": {},
     "output_type": "execute_result"
    }
   ],
   "source": [
    "clasterization.claster.value_counts()"
   ]
  },
  {
   "cell_type": "markdown",
   "metadata": {},
   "source": [
    "I divide the data into two clusters in order to do different processing for them in the future."
   ]
  },
  {
   "cell_type": "code",
   "execution_count": 23,
   "metadata": {},
   "outputs": [],
   "source": [
    "clasterization = clasterization.drop(clasterization[(clasterization.claster == 1)].index)\n",
    "Train_DF_Small = clasterization.loc[clasterization.claster == 0]\n",
    "Train_DF_Small.drop('claster', axis = 1)\n",
    "Train_DF_Mid = clasterization.loc[clasterization.claster == 2]\n",
    "Train_DF_Mid.drop(columns = ['claster', 'rev', 'op_in'])\n",
    "Train_DF_midlle = Train_DF[Train_DF['company_name'].isin(Train_DF_Mid.company_name)] \n",
    "Train_DF_small = Train_DF[Train_DF['company_name'].isin(Train_DF_Small.company_name)] "
   ]
  },
  {
   "cell_type": "code",
   "execution_count": 24,
   "metadata": {},
   "outputs": [],
   "source": [
    "from sklearn.linear_model import LinearRegression\n",
    "from sklearn.metrics import mean_absolute_error"
   ]
  },
  {
   "cell_type": "code",
   "execution_count": 25,
   "metadata": {},
   "outputs": [],
   "source": [
    "def naive_model(data: pd.DataFrame, name_of_column: str) -> float:\n",
    "    return data[name_of_column].iloc[-1]"
   ]
  },
  {
   "cell_type": "code",
   "execution_count": 26,
   "metadata": {},
   "outputs": [],
   "source": [
    "def linear_model(data: pd.DataFrame, name_of_column: str):\n",
    "    \"\"\"Least squares Linear Regression.\"\"\"\n",
    "    model = LinearRegression().fit(np.array(data.Time[:]).reshape((-1,1)), data[name_of_column][:])\n",
    "    next_value = model.coef_[0] * (data.Time[:].max() + 1) + model.intercept_ \n",
    "    return next_value"
   ]
  },
  {
   "cell_type": "code",
   "execution_count": 27,
   "metadata": {},
   "outputs": [],
   "source": [
    "def company_cross_validation(data: pd.DataFrame, name_of_column: str, model, metrics, train_lenght: int=0, step: int=1, plot: bool=False) -> float:\n",
    "    \"\"\"Cross validation for one company data\"\"\"\n",
    "    values_for_metric = {\"test\":[], \"model\":[]}\n",
    "    len_of_data = len(data[name_of_column])\n",
    "    if not train_lenght:\n",
    "        train_lenght = int((len_of_data * 0.6)//1)\n",
    "    for n in range(train_lenght + 1, len_of_data, step):\n",
    "        train_data = data.iloc[: n]\n",
    "        values_for_metric[\"model\"].append(model(train_data, name_of_column))\n",
    "        values_for_metric[\"test\"].append(data[name_of_column][n])\n",
    "    if plot:\n",
    "        plt.figure(figsize=(20,10))\n",
    "        plt.plot(values_for_metric[\"model\"], label='Model')\n",
    "        plt.plot(values_for_metric[\"test\"], label='Test')\n",
    "        plt.legend()\n",
    "        plt.grid()\n",
    "        plt.show()\n",
    "    return metrics(values_for_metric[\"test\"], values_for_metric[\"model\"])"
   ]
  },
  {
   "cell_type": "code",
   "execution_count": 28,
   "metadata": {},
   "outputs": [],
   "source": [
    "def companies_validation(data: pd.DataFrame, name_of_column: str, \n",
    "                        model, metrics, train_lenght: int=0, \n",
    "                        step: int=1, plot: bool=False) -> pd.DataFrame:\n",
    "    \"\"\"Cross validation for a few companies data\"\"\"\n",
    "    validation = {}\n",
    "    for company_name in data.company_name.unique():\n",
    "        DF_of_one_company = data.loc[data.company_name == company_name] \n",
    "        DF_of_one_company['Time'] = np.arange(len(DF_of_one_company.date))\n",
    "        DF_of_one_company = DF_of_one_company.reset_index(drop=True)\n",
    "        validation[company_name] = company_cross_validation(DF_of_one_company, name_of_column, model, metrics)\n",
    "    return pd.DataFrame.from_dict(validation, orient='index', columns=[name_of_column])"
   ]
  },
  {
   "cell_type": "markdown",
   "metadata": {},
   "source": [
    "Find mse for naive model"
   ]
  },
  {
   "cell_type": "code",
   "execution_count": null,
   "metadata": {},
   "outputs": [],
   "source": [
    "Validation_small_rev = companies_validation(Train_DF_small,'rev', naive_model, mean_absolute_error)\n",
    "Validation_small_op_in = companies_validation(Train_DF_small,'op_in', naive_model, mean_absolute_error)\n",
    "Validation_midlle_rev = companies_validation(Train_DF_midlle,'rev', naive_model, mean_absolute_error)\n",
    "Validation_midlle_op_in = companies_validation(Train_DF_midlle,'op_in', naive_model, mean_absolute_error)"
   ]
  },
  {
   "cell_type": "code",
   "execution_count": 30,
   "metadata": {},
   "outputs": [
    {
     "name": "stdout",
     "output_type": "stream",
     "text": [
      "rev    306.893456\n",
      "dtype: float64\n",
      "op_in    249.094686\n",
      "dtype: float64\n",
      "rev    818.200013\n",
      "dtype: float64\n",
      "op_in    478.723102\n",
      "dtype: float64\n"
     ]
    }
   ],
   "source": [
    "print(Validation_small_rev.mean()\n",
    "    ,Validation_small_op_in.mean()\n",
    "    ,Validation_midlle_rev.mean()\n",
    "    ,Validation_midlle_op_in.mean(), sep='\\n')"
   ]
  },
  {
   "cell_type": "markdown",
   "metadata": {},
   "source": [
    "Find mse for Linear Regression model"
   ]
  },
  {
   "cell_type": "code",
   "execution_count": null,
   "metadata": {},
   "outputs": [],
   "source": [
    "Validation_small_rev = companies_validation(Train_DF_small,'rev', linear_model, mean_absolute_error)\n",
    "Validation_small_op_in = companies_validation(Train_DF_small,'op_in', linear_model, mean_absolute_error)\n",
    "Validation_midlle_rev = companies_validation(Train_DF_midlle,'rev', linear_model, mean_absolute_error)\n",
    "Validation_midlle_op_in = companies_validation(Train_DF_midlle,'op_in', linear_model, mean_absolute_error)\n"
   ]
  },
  {
   "cell_type": "markdown",
   "metadata": {},
   "source": [
    "It can be seen that in both cases the error is quite large, and for the linear model everything is worse than for the naive one.\n"
   ]
  },
  {
   "cell_type": "code",
   "execution_count": 32,
   "metadata": {},
   "outputs": [
    {
     "name": "stdout",
     "output_type": "stream",
     "text": [
      "rev    983.335832\n",
      "dtype: float64\n",
      "op_in    424.698657\n",
      "dtype: float64\n",
      "rev    5076.525555\n",
      "dtype: float64\n",
      "op_in    2039.771363\n",
      "dtype: float64\n"
     ]
    }
   ],
   "source": [
    "print(Validation_small_rev.mean()\n",
    "    ,Validation_small_op_in.mean()\n",
    "    ,Validation_midlle_rev.mean()\n",
    "    ,Validation_midlle_op_in.mean(), sep='\\n')"
   ]
  },
  {
   "cell_type": "markdown",
   "metadata": {},
   "source": [
    "Test data. I do everything similarly to the training sample."
   ]
  },
  {
   "cell_type": "code",
   "execution_count": 33,
   "metadata": {},
   "outputs": [],
   "source": [
    "Test_DF = download_data(PATH_OF_TEST_DATA)"
   ]
  },
  {
   "cell_type": "code",
   "execution_count": 34,
   "metadata": {},
   "outputs": [
    {
     "name": "stdout",
     "output_type": "stream",
     "text": [
      "[[  274.6968975 ]\n",
      " [11246.84206484]\n",
      " [ 2461.66830095]]\n"
     ]
    },
    {
     "data": {
      "text/plain": [
       "<matplotlib.collections.PathCollection at 0x18dff9a1460>"
      ]
     },
     "execution_count": 34,
     "metadata": {},
     "output_type": "execute_result"
    },
    {
     "data": {
      "image/png": "[encoded data removed]",
      "text/plain": [
       "<Figure size 432x288 with 1 Axes>"
      ]
     },
     "metadata": {
      "needs_background": "light"
     },
     "output_type": "display_data"
    }
   ],
   "source": [
    "revenues = pd.DataFrame(Test_DF.groupby('company_name')['rev'].mean())\n",
    "op_ins = pd.DataFrame(Test_DF.groupby('company_name')['op_in'].mean())\n",
    "clasterization = pd.concat([revenues,op_ins], axis=1, join='inner').reset_index()\n",
    "kmeans = KMeans(n_clusters=3) \n",
    "kmeans.fit(np.array(clasterization['rev']).reshape((-1,1)), clasterization['op_in'])\n",
    "print(kmeans.cluster_centers_)\n",
    "kmeans.labels_\n",
    "plt.scatter(np.array(clasterization['rev']).reshape((-1,1)), clasterization['op_in'], c=kmeans.labels_, cmap='rainbow')"
   ]
  },
  {
   "cell_type": "code",
   "execution_count": null,
   "metadata": {},
   "outputs": [],
   "source": [
    "clasterization['claster'] = kmeans.labels_\n",
    "clasterization = clasterization.drop(clasterization[(clasterization.claster == 1)].index)\n",
    "Test_DF_Small = clasterization.loc[clasterization.claster == 0]\n",
    "Test_DF_Small.drop('claster', axis = 1)\n",
    "Test_DF_Mid = clasterization.loc[clasterization.claster == 2]\n",
    "Test_DF_Mid.drop(columns = ['claster', 'rev', 'op_in'])\n",
    "Test_DF_midlle = Test_DF[Test_DF['company_name'].isin(Test_DF_Mid.company_name)] \n",
    "Test_DF_small = Test_DF[Test_DF['company_name'].isin(Test_DF_Small.company_name)]\n",
    "Validation_small_rev = companies_validation(Train_DF_small,'rev', naive_model, mean_absolute_error)\n",
    "Validation_small_op_in = companies_validation(Train_DF_small,'op_in', naive_model, mean_absolute_error)\n",
    "Validation_midlle_rev = companies_validation(Train_DF_midlle,'rev', naive_model, mean_absolute_error)\n",
    "Validation_midlle_op_in = companies_validation(Train_DF_midlle,'op_in', naive_model, mean_absolute_error) "
   ]
  },
  {
   "cell_type": "code",
   "execution_count": 36,
   "metadata": {},
   "outputs": [
    {
     "name": "stdout",
     "output_type": "stream",
     "text": [
      "rev    306.893456\n",
      "dtype: float64\n",
      "op_in    249.094686\n",
      "dtype: float64\n",
      "rev    818.200013\n",
      "dtype: float64\n",
      "op_in    478.723102\n",
      "dtype: float64\n"
     ]
    }
   ],
   "source": [
    "print(Validation_small_rev.mean()\n",
    "    ,Validation_small_op_in.mean()\n",
    "    ,Validation_midlle_rev.mean()\n",
    "    ,Validation_midlle_op_in.mean(), sep='\\n')"
   ]
  },
  {
   "cell_type": "code",
   "execution_count": null,
   "metadata": {},
   "outputs": [],
   "source": [
    "Validation_small_rev = companies_validation(Train_DF_small,'rev', linear_model, mean_absolute_error)\n",
    "Validation_small_op_in = companies_validation(Train_DF_small,'op_in', linear_model, mean_absolute_error)\n",
    "Validation_midlle_rev = companies_validation(Train_DF_midlle,'rev', linear_model, mean_absolute_error)\n",
    "Validation_midlle_op_in = companies_validation(Train_DF_midlle,'op_in', linear_model, mean_absolute_error) "
   ]
  },
  {
   "cell_type": "code",
   "execution_count": 38,
   "metadata": {},
   "outputs": [
    {
     "name": "stdout",
     "output_type": "stream",
     "text": [
      "rev    983.335832\n",
      "dtype: float64\n",
      "op_in    424.698657\n",
      "dtype: float64\n",
      "rev    5076.525555\n",
      "dtype: float64\n",
      "op_in    2039.771363\n",
      "dtype: float64\n"
     ]
    }
   ],
   "source": [
    "print(Validation_small_rev.mean()\n",
    "    ,Validation_small_op_in.mean()\n",
    "    ,Validation_midlle_rev.mean()\n",
    "    ,Validation_midlle_op_in.mean(), sep='\\n')"
   ]
  },
  {
   "cell_type": "markdown",
   "metadata": {},
   "source": [
    "In the future, I want to try, firstly, to use more attributes, secondly, to use more complex models, and thirdly, to do different data processing for several clusters."
   ]
  },
  {
   "cell_type": "markdown",
   "metadata": {},
   "source": [
    "For the future"
   ]
  },
  {
   "cell_type": "code",
   "execution_count": 39,
   "metadata": {},
   "outputs": [
    {
     "name": "stdout",
     "output_type": "stream",
     "text": [
      "  company_name         rev       date       op_in  Time\n",
      "0          APA  590.059758 2020-09-30 -367.791167    38\n",
      "  company_name          rev       date       op_in  Time\n",
      "0          CHK  1931.133741 2020-09-30 -186.096884    38\n",
      "  company_name         rev       date       op_in  Time\n",
      "0          DVN  1889.75392 2020-09-30 -205.666059    38\n",
      "  company_name          rev       date      op_in  Time\n",
      "0          EOG  3640.845113 2020-09-30  545.42121    38\n",
      "  company_name         rev       date      op_in  Time\n",
      "0          HES -429.091038 2020-09-30 -456.82646    38\n",
      "  company_name         rev       date       op_in  Time\n",
      "0          MRO  326.419626 2020-09-30 -387.392604    38\n",
      "  company_name          rev       date      op_in  Time\n",
      "0          MUR -1143.474824 2020-09-30 -101.76539    38\n",
      "  company_name          rev       date       op_in  Time\n",
      "0          OVV  1303.788056 2020-09-30  155.234708    38\n"
     ]
    },
    {
     "name": "stderr",
     "output_type": "stream",
     "text": [
      "<ipython-input-39-655ec4c21c84>:3: SettingWithCopyWarning: \n",
      "A value is trying to be set on a copy of a slice from a DataFrame.\n",
      "Try using .loc[row_indexer,col_indexer] = value instead\n",
      "\n",
      "See the caveats in the documentation: https://pandas.pydata.org/pandas-docs/stable/user_guide/indexing.html#returning-a-view-versus-a-copy\n",
      "  DF_of_one_company['Time'] = np.arange(len(DF_of_one_company.date))\n",
      "<ipython-input-39-655ec4c21c84>:3: SettingWithCopyWarning: \n",
      "A value is trying to be set on a copy of a slice from a DataFrame.\n",
      "Try using .loc[row_indexer,col_indexer] = value instead\n",
      "\n",
      "See the caveats in the documentation: https://pandas.pydata.org/pandas-docs/stable/user_guide/indexing.html#returning-a-view-versus-a-copy\n",
      "  DF_of_one_company['Time'] = np.arange(len(DF_of_one_company.date))\n",
      "<ipython-input-39-655ec4c21c84>:3: SettingWithCopyWarning: \n",
      "A value is trying to be set on a copy of a slice from a DataFrame.\n",
      "Try using .loc[row_indexer,col_indexer] = value instead\n",
      "\n",
      "See the caveats in the documentation: https://pandas.pydata.org/pandas-docs/stable/user_guide/indexing.html#returning-a-view-versus-a-copy\n",
      "  DF_of_one_company['Time'] = np.arange(len(DF_of_one_company.date))\n",
      "<ipython-input-39-655ec4c21c84>:3: SettingWithCopyWarning: \n",
      "A value is trying to be set on a copy of a slice from a DataFrame.\n",
      "Try using .loc[row_indexer,col_indexer] = value instead\n",
      "\n",
      "See the caveats in the documentation: https://pandas.pydata.org/pandas-docs/stable/user_guide/indexing.html#returning-a-view-versus-a-copy\n",
      "  DF_of_one_company['Time'] = np.arange(len(DF_of_one_company.date))\n",
      "<ipython-input-39-655ec4c21c84>:3: SettingWithCopyWarning: \n",
      "A value is trying to be set on a copy of a slice from a DataFrame.\n",
      "Try using .loc[row_indexer,col_indexer] = value instead\n",
      "\n",
      "See the caveats in the documentation: https://pandas.pydata.org/pandas-docs/stable/user_guide/indexing.html#returning-a-view-versus-a-copy\n",
      "  DF_of_one_company['Time'] = np.arange(len(DF_of_one_company.date))\n",
      "<ipython-input-39-655ec4c21c84>:3: SettingWithCopyWarning: \n",
      "A value is trying to be set on a copy of a slice from a DataFrame.\n",
      "Try using .loc[row_indexer,col_indexer] = value instead\n",
      "\n",
      "See the caveats in the documentation: https://pandas.pydata.org/pandas-docs/stable/user_guide/indexing.html#returning-a-view-versus-a-copy\n",
      "  DF_of_one_company['Time'] = np.arange(len(DF_of_one_company.date))\n",
      "<ipython-input-39-655ec4c21c84>:3: SettingWithCopyWarning: \n",
      "A value is trying to be set on a copy of a slice from a DataFrame.\n",
      "Try using .loc[row_indexer,col_indexer] = value instead\n",
      "\n",
      "See the caveats in the documentation: https://pandas.pydata.org/pandas-docs/stable/user_guide/indexing.html#returning-a-view-versus-a-copy\n",
      "  DF_of_one_company['Time'] = np.arange(len(DF_of_one_company.date))\n",
      "<ipython-input-39-655ec4c21c84>:3: SettingWithCopyWarning: \n",
      "A value is trying to be set on a copy of a slice from a DataFrame.\n",
      "Try using .loc[row_indexer,col_indexer] = value instead\n",
      "\n",
      "See the caveats in the documentation: https://pandas.pydata.org/pandas-docs/stable/user_guide/indexing.html#returning-a-view-versus-a-copy\n",
      "  DF_of_one_company['Time'] = np.arange(len(DF_of_one_company.date))\n"
     ]
    }
   ],
   "source": [
    "#or company_name in Train_DF_small.company_name.unique():\n",
    "#   DF_of_one_company = Train_DF_small.loc[Train_DF_small.company_name == company_name] \n",
    "#   DF_of_one_company['Time'] = np.arange(len(DF_of_one_company.date))\n",
    "#   new_row = dict(DF_of_one_company.iloc[-1])\n",
    "#   new_row['rev'] = linear_model(DF_of_one_company, 'rev')\n",
    "#   new_row['op_in'] = linear_model(DF_of_one_company, 'op_in')\n",
    "#   new_row['date'] = new_row['date'] + pd.DateOffset(months=3)\n",
    "#   new_row['Time'] = new_row['Time'] + 1\n",
    "#   new_row = pd.DataFrame([new_row])\n",
    "#   print(new_row)\n",
    "#   Train_DF_small = pd.concat([Train_DF_small, new_row], ignore_index = True)\n"
   ]
  },
  {
   "cell_type": "code",
   "execution_count": 40,
   "metadata": {},
   "outputs": [
    {
     "name": "stderr",
     "output_type": "stream",
     "text": [
      "<ipython-input-40-c759420bedde>:2: SettingWithCopyWarning: \n",
      "A value is trying to be set on a copy of a slice from a DataFrame.\n",
      "Try using .loc[row_indexer,col_indexer] = value instead\n",
      "\n",
      "See the caveats in the documentation: https://pandas.pydata.org/pandas-docs/stable/user_guide/indexing.html#returning-a-view-versus-a-copy\n",
      "  Train_DF_Mid_APA['Time'] = np.arange(len(Train_DF_Mid_APA.date))\n"
     ]
    },
    {
     "data": {
      "text/plain": [
       "590.0597583385488"
      ]
     },
     "execution_count": 40,
     "metadata": {},
     "output_type": "execute_result"
    }
   ],
   "source": [
    "#Train_DF_Mid_APA = Train_DF.loc[Train_DF.company_name == 'APA']\n",
    "#Train_DF_Mid_APA['Time'] = np.arange(len(Train_DF_Mid_APA.date))\n",
    "#Train_DF_Mid_APA = Train_DF_Mid_APA.reset_index(drop=True)\n",
    "#Train_DF_Mid_APA\n",
    "#new = dict(Train_DF_Mid_APA.iloc[-1])\n",
    "#new['rev'] = linear_model(Train_DF_Mid_APA, 'rev')\n",
    "#new['op_in'] = linear_model(Train_DF_Mid_APA, 'op_in')\n",
    "#new['date'] = new['date'] + pd.DateOffset(months=3)\n",
    "#new['Time'] = new['Time'] + 1\n",
    "#new = pd.DataFrame([new])\n",
    "#Train_DF_Mid_APA = pd.concat([Train_DF_Mid_APA, new], ignore_index = True)\n",
    "#model = LinearRegression().fit(np.array(Train_DF_Mid_APA.Time[:]).reshape((-1,1)), Train_DF_Mid_APA.rev[:])\n",
    "#next = model.coef_[0]*38 + model.intercept_\n",
    "#next"
   ]
  }
 ],
 "metadata": {
  "kernelspec": {
   "display_name": "Python 3.9.1 64-bit",
   "language": "python",
   "name": "python3"
  },
  "language_info": {
   "codemirror_mode": {
    "name": "ipython",
    "version": 3
   },
   "file_extension": ".py",
   "mimetype": "text/x-python",
   "name": "python",
   "nbconvert_exporter": "python",
   "pygments_lexer": "ipython3",
   "version": "3.9.1"
  },
  "orig_nbformat": 4,
  "vscode": {
   "interpreter": {
    "hash": "c8be88799e4e7977f60998f2522923f1f9268b787ed3a9315cdbced7a5f47631"
   }
  }
 },
 "nbformat": 4,
 "nbformat_minor": 2
}
